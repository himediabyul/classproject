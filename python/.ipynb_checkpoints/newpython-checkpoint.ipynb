{
 "cells": [
  {
   "cell_type": "code",
   "execution_count": 1,
   "id": "26ba0670",
   "metadata": {},
   "outputs": [],
   "source": [
    "# 주석은 #을 쓴다\n",
    "# 숫자, 문자열, bool, 리스트, 튜플\n",
    "\n",
    "# type() => 데이터의 타입을 확인하는 함수\n"
   ]
  },
  {
   "cell_type": "code",
   "execution_count": 2,
   "id": "2941583b",
   "metadata": {},
   "outputs": [
    {
     "name": "stdout",
     "output_type": "stream",
     "text": [
      "<class 'str'>\n"
     ]
    }
   ],
   "source": [
    "print(type('Hello!'))"
   ]
  },
  {
   "cell_type": "code",
   "execution_count": 4,
   "id": "28da55a7",
   "metadata": {},
   "outputs": [
    {
     "name": "stdout",
     "output_type": "stream",
     "text": [
      "<class 'int'>\n"
     ]
    }
   ],
   "source": [
    "print(type(100))"
   ]
  },
  {
   "cell_type": "code",
   "execution_count": 5,
   "id": "c916be1b",
   "metadata": {},
   "outputs": [
    {
     "name": "stdout",
     "output_type": "stream",
     "text": [
      "<class 'float'>\n"
     ]
    }
   ],
   "source": [
    "print(type(3.14))"
   ]
  },
  {
   "cell_type": "code",
   "execution_count": 7,
   "id": "5ed05499",
   "metadata": {},
   "outputs": [],
   "source": [
    "# str : 문자열 생성은 \"\", '' 로 만든다\n",
    "# \\문자를 통해서 \" \\\" \\' \\\\ \\t \\n \""
   ]
  },
  {
   "cell_type": "code",
   "execution_count": 8,
   "id": "6b8b6867",
   "metadata": {},
   "outputs": [
    {
     "name": "stdout",
     "output_type": "stream",
     "text": [
      "\"안녕\" \t 하' 세' 요 \n",
      "\n",
      "안녕하세요!\n"
     ]
    }
   ],
   "source": [
    "print(\"\\\"안녕\\\" \\t 하\\' 세\\' 요 \\n\")\n",
    "print(\"안녕하세요!\")"
   ]
  },
  {
   "cell_type": "code",
   "execution_count": 16,
   "id": "f279119a",
   "metadata": {},
   "outputs": [
    {
     "data": {
      "text/plain": [
       "'안녕하세요 감자입니다.\\n멍청한 감자는 나하나뿐인가\\n머가리 깡깡깡 울리는소리가 여기까지 들리는데요\\n하하하하'"
      ]
     },
     "execution_count": 16,
     "metadata": {},
     "output_type": "execute_result"
    }
   ],
   "source": [
    "\"\"\"안녕하세요 감자입니다.\n",
    "멍청한 감자는 나하나뿐인가\n",
    "머가리 깡깡깡 울리는소리가 여기까지 들리는데요\n",
    "하하하하\"\"\""
   ]
  },
  {
   "cell_type": "code",
   "execution_count": 9,
   "id": "8d76f5be",
   "metadata": {},
   "outputs": [],
   "source": [
    "# 문자열 + 문자열 => 문자열\n",
    "# 문자열 +  숫자 => 오류"
   ]
  },
  {
   "cell_type": "code",
   "execution_count": 10,
   "id": "105d327e",
   "metadata": {},
   "outputs": [
    {
     "name": "stdout",
     "output_type": "stream",
     "text": [
      "안녕하세요\n"
     ]
    }
   ],
   "source": [
    "print('안녕'+'하세요')"
   ]
  },
  {
   "cell_type": "code",
   "execution_count": 11,
   "id": "94744b53",
   "metadata": {},
   "outputs": [
    {
     "ename": "TypeError",
     "evalue": "can only concatenate str (not \"int\") to str",
     "output_type": "error",
     "traceback": [
      "\u001b[1;31m---------------------------------------------------------------------------\u001b[0m",
      "\u001b[1;31mTypeError\u001b[0m                                 Traceback (most recent call last)",
      "\u001b[1;32m~\\AppData\\Local\\Temp\\ipykernel_10732\\305690565.py\u001b[0m in \u001b[0;36m<module>\u001b[1;34m\u001b[0m\n\u001b[1;32m----> 1\u001b[1;33m \u001b[0mprint\u001b[0m\u001b[1;33m(\u001b[0m\u001b[1;34m'안녕하'\u001b[0m\u001b[1;33m+\u001b[0m\u001b[1;36m3\u001b[0m\u001b[1;33m)\u001b[0m\u001b[1;33m\u001b[0m\u001b[1;33m\u001b[0m\u001b[0m\n\u001b[0m",
      "\u001b[1;31mTypeError\u001b[0m: can only concatenate str (not \"int\") to str"
     ]
    }
   ],
   "source": [
    "print('안녕하'+3)"
   ]
  },
  {
   "cell_type": "code",
   "execution_count": 12,
   "id": "b59c2f49",
   "metadata": {},
   "outputs": [
    {
     "name": "stdout",
     "output_type": "stream",
     "text": [
      "안녕안녕안녕\n"
     ]
    }
   ],
   "source": [
    "print('안녕'*3)"
   ]
  },
  {
   "cell_type": "code",
   "execution_count": null,
   "id": "6e9d7c7a",
   "metadata": {},
   "outputs": [],
   "source": [
    "# str => 문자들의 집합\n",
    "# 인덱싱 사용 => 배열의 인덱스 처럼 사용\n",
    "# 인덱스 : 0 ~ N-1"
   ]
  },
  {
   "cell_type": "code",
   "execution_count": 13,
   "id": "c33961b2",
   "metadata": {},
   "outputs": [
    {
     "name": "stdout",
     "output_type": "stream",
     "text": [
      "안\n",
      "녕\n",
      "하\n",
      "세\n",
      "요\n"
     ]
    }
   ],
   "source": [
    "print('안녕하세요'[0])\n",
    "print('안녕하세요'[1])\n",
    "print('안녕하세요'[2])\n",
    "print('안녕하세요'[3])\n",
    "print('안녕하세요'[4])"
   ]
  },
  {
   "cell_type": "code",
   "execution_count": 14,
   "id": "b9f09cfe",
   "metadata": {},
   "outputs": [
    {
     "ename": "IndexError",
     "evalue": "string index out of range",
     "output_type": "error",
     "traceback": [
      "\u001b[1;31m---------------------------------------------------------------------------\u001b[0m",
      "\u001b[1;31mIndexError\u001b[0m                                Traceback (most recent call last)",
      "\u001b[1;32m~\\AppData\\Local\\Temp\\ipykernel_10732\\1268038451.py\u001b[0m in \u001b[0;36m<module>\u001b[1;34m\u001b[0m\n\u001b[1;32m----> 1\u001b[1;33m \u001b[0mprint\u001b[0m\u001b[1;33m(\u001b[0m\u001b[1;34m'안녕하세요'\u001b[0m\u001b[1;33m[\u001b[0m\u001b[1;36m5\u001b[0m\u001b[1;33m]\u001b[0m\u001b[1;33m)\u001b[0m\u001b[1;33m\u001b[0m\u001b[1;33m\u001b[0m\u001b[0m\n\u001b[0m",
      "\u001b[1;31mIndexError\u001b[0m: string index out of range"
     ]
    }
   ],
   "source": [
    "print('안녕하세요'[5])"
   ]
  },
  {
   "cell_type": "code",
   "execution_count": 15,
   "id": "c5d0b555",
   "metadata": {},
   "outputs": [
    {
     "name": "stdout",
     "output_type": "stream",
     "text": [
      "요\n",
      "세\n",
      "하\n",
      "녕\n",
      "안\n"
     ]
    }
   ],
   "source": [
    "print('안녕하세요'[-1])\n",
    "print('안녕하세요'[-2])\n",
    "print('안녕하세요'[-3])\n",
    "print('안녕하세요'[-4])\n",
    "print('안녕하세요'[-5])"
   ]
  },
  {
   "cell_type": "code",
   "execution_count": 43,
   "id": "55d08445",
   "metadata": {},
   "outputs": [],
   "source": [
    "# []=> 슬라이싱 : 범위 선택\n",
    "# [ 시작 인덱스 : 종료 위치] => 시작 인덱스 - 종료위치-1\n",
    "# => [ 1:4] => 1,2,3\n",
    "# [ 시작 인덱스 : 종료 위치] => 시작 인덱스 - 종료위치-1\n",
    "# 시작 인덱스를 생략하는 경우 => [ :4] => 0 ~ 4-1\n",
    "# 종료 위치를 생략하는 경우 => [2: ] => 2 ~ 끝"
   ]
  },
  {
   "cell_type": "code",
   "execution_count": 19,
   "id": "9abeea3a",
   "metadata": {},
   "outputs": [
    {
     "name": "stdout",
     "output_type": "stream",
     "text": [
      "녕하세\n"
     ]
    }
   ],
   "source": [
    "print('안녕하세요'[1:4])"
   ]
  },
  {
   "cell_type": "code",
   "execution_count": 22,
   "id": "4dbb8f07",
   "metadata": {},
   "outputs": [
    {
     "name": "stdout",
     "output_type": "stream",
     "text": [
      "안녕하세\n"
     ]
    }
   ],
   "source": [
    "print('안녕하세요'[:4])"
   ]
  },
  {
   "cell_type": "code",
   "execution_count": 23,
   "id": "f3d87fb0",
   "metadata": {},
   "outputs": [
    {
     "name": "stdout",
     "output_type": "stream",
     "text": [
      "하세요\n"
     ]
    }
   ],
   "source": [
    "print('안녕하세요'[2:])"
   ]
  },
  {
   "cell_type": "code",
   "execution_count": 24,
   "id": "e8c7227f",
   "metadata": {},
   "outputs": [],
   "source": [
    "# 숫자 타입\n",
    "# 정수 int, 실수 float\n",
    "# 사칙연산 + - * / %\n",
    "# 정수 나누기: //\n",
    "# 제곱 연산: **"
   ]
  },
  {
   "cell_type": "code",
   "execution_count": 26,
   "id": "055e762b",
   "metadata": {},
   "outputs": [
    {
     "name": "stdout",
     "output_type": "stream",
     "text": [
      "3\n",
      "3.3333333333333335\n",
      "3\n",
      "27\n"
     ]
    }
   ],
   "source": [
    "print(1+2)\n",
    "print(10/3)\n",
    "# 정수 결과만 나오는 나누기 연산\n",
    "print(10//3)\n",
    "# 제곱\n",
    "print(3**3)"
   ]
  },
  {
   "cell_type": "code",
   "execution_count": 27,
   "id": "0df58879",
   "metadata": {},
   "outputs": [],
   "source": [
    "# 변수 사용\n",
    "# 변수 = 데이터\n",
    "# 복합대입연산자"
   ]
  },
  {
   "cell_type": "code",
   "execution_count": 28,
   "id": "9cd5996e",
   "metadata": {},
   "outputs": [],
   "source": [
    "pi = 3.14\n",
    "r = 2"
   ]
  },
  {
   "cell_type": "code",
   "execution_count": 31,
   "id": "1f5f7f90",
   "metadata": {},
   "outputs": [
    {
     "name": "stdout",
     "output_type": "stream",
     "text": [
      "원주율 :  3.14 반지름 :  2\n"
     ]
    }
   ],
   "source": [
    "print('원주율 : ',pi, '반지름 : ',r)"
   ]
  },
  {
   "cell_type": "code",
   "execution_count": null,
   "id": "bf378a6a",
   "metadata": {},
   "outputs": [],
   "source": [
    "# 캐스팅 함수\n",
    "# 문자열 -> 정수 : int()\n",
    "# 문자열 -> 실수 : float()\n",
    "# 숫자 -> 문자열 : str()"
   ]
  },
  {
   "cell_type": "code",
   "execution_count": 32,
   "id": "cc9ced39",
   "metadata": {},
   "outputs": [],
   "source": [
    "# 문자열을 다루는 함수\n",
    "# format()\n",
    "# uppter() lower()\n",
    "# strip() lstrip() rstrip() -> 공백제거\n",
    "# find()\n",
    "# split()\n",
    "# is000\n",
    "# in연산자"
   ]
  },
  {
   "cell_type": "code",
   "execution_count": 35,
   "id": "46b5e10b",
   "metadata": {},
   "outputs": [
    {
     "name": "stdout",
     "output_type": "stream",
     "text": [
      "100만원\n",
      "1 string True\n"
     ]
    }
   ],
   "source": [
    "# format : 문자열 포맷팅\n",
    "format_a = '{}만원'.format(100)\n",
    "print(format_a)\n",
    "format_b = '{} {} {}'.format(1, 'string', True)\n",
    "print(format_b)"
   ]
  },
  {
   "cell_type": "code",
   "execution_count": 40,
   "id": "033b6d13",
   "metadata": {},
   "outputs": [
    {
     "name": "stdout",
     "output_type": "stream",
     "text": [
      "###   String   ###\n",
      "###String###\n",
      "###String   ###\n",
      "###   String###\n"
     ]
    }
   ],
   "source": [
    "# strip() lstrip() rstrip() : 공백 제거 함수\n",
    "str1= '   String   '\n",
    "print('###'+str1+'###')\n",
    "print('###'+str1.strip()+'###')\n",
    "print('###'+str1.lstrip()+'###')\n",
    "print('###'+str1.rstrip()+'###')"
   ]
  },
  {
   "cell_type": "code",
   "execution_count": 42,
   "id": "734e9e5d",
   "metadata": {},
   "outputs": [
    {
     "name": "stdout",
     "output_type": "stream",
     "text": [
      "2\n"
     ]
    }
   ],
   "source": [
    "# find() : 문자열을 포함하는 위치 인덱스 반환\n",
    "result1 = '안녕하세요'.find('하')\n",
    "print(result1)"
   ]
  },
  {
   "cell_type": "code",
   "execution_count": 45,
   "id": "fab5de87",
   "metadata": {},
   "outputs": [
    {
     "name": "stdout",
     "output_type": "stream",
     "text": [
      "<class 'list'> ['1', '2', '3', '4', '5']\n"
     ]
    }
   ],
   "source": [
    "#split() : 문자열을 첨자로 나누고 각 나눠진 결과를 리스트로 반환\n",
    "list_1 = '1 2 3 4 5'.split(' ')\n",
    "print(type(list_1), list_1)"
   ]
  },
  {
   "cell_type": "code",
   "execution_count": 49,
   "id": "96247b65",
   "metadata": {},
   "outputs": [
    {
     "name": "stdout",
     "output_type": "stream",
     "text": [
      "True\n",
      "False\n",
      "True\n",
      "False\n"
     ]
    }
   ],
   "source": [
    "# is000 : 문자열의 구성 파악\n",
    "print('test123'.isalnum())\n",
    "print('test123!$'.isalnum())\n",
    "print('1000'.isdigit())\n",
    "print('$1000'.isdigit())"
   ]
  },
  {
   "cell_type": "code",
   "execution_count": 51,
   "id": "6912cfaa",
   "metadata": {},
   "outputs": [
    {
     "name": "stdout",
     "output_type": "stream",
     "text": [
      "True\n",
      "False\n"
     ]
    }
   ],
   "source": [
    "# in 연산자\n",
    "print('안녕' in '안녕하세요')\n",
    "print('바이' in '안녕하세요')"
   ]
  },
  {
   "cell_type": "code",
   "execution_count": null,
   "id": "e7d3b356",
   "metadata": {},
   "outputs": [],
   "source": [
    "# 흐름제어\n",
    "# if\n",
    "# input 함수는 문자열을 반환\n",
    "num1 = input('정수 입력 >>> ') \n",
    "num2 = int(num1)\n",
    "\n",
    "if num2 > 0 :\n",
    "    print('양수')\n",
    "\n",
    "if num2 < 0 : \n",
    "    print('음수')\n",
    "    \n",
    "if num2 == 0 :\n",
    "    print('0')"
   ]
  },
  {
   "cell_type": "code",
   "execution_count": null,
   "id": "c8723a7c",
   "metadata": {},
   "outputs": [],
   "source": [
    "num1 = input('정수 입력 >>> ') \n",
    "num2 = int(num1)\n",
    "\n",
    "if num2 > 0 :\n",
    "    print('양수')\n",
    "\n",
    "elif num2 < 0 : \n",
    "    print('음수')\n",
    "    \n",
    "else :\n",
    "    print('0')"
   ]
  },
  {
   "cell_type": "code",
   "execution_count": null,
   "id": "41e08742",
   "metadata": {},
   "outputs": [],
   "source": [
    "# 0은 False\n",
    "if 0 : \n",
    "    print('0은 True')\n",
    "else :\n",
    "    print('0은 False')"
   ]
  },
  {
   "cell_type": "code",
   "execution_count": null,
   "id": "0e79d95f",
   "metadata": {},
   "outputs": [],
   "source": []
  },
  {
   "cell_type": "code",
   "execution_count": null,
   "id": "4a3cb47d",
   "metadata": {},
   "outputs": [],
   "source": []
  }
 ],
 "metadata": {
  "kernelspec": {
   "display_name": "Python 3 (ipykernel)",
   "language": "python",
   "name": "python3"
  },
  "language_info": {
   "codemirror_mode": {
    "name": "ipython",
    "version": 3
   },
   "file_extension": ".py",
   "mimetype": "text/x-python",
   "name": "python",
   "nbconvert_exporter": "python",
   "pygments_lexer": "ipython3",
   "version": "3.9.13"
  }
 },
 "nbformat": 4,
 "nbformat_minor": 5
}
